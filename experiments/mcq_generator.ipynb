{
 "cells": [
  {
   "cell_type": "markdown",
   "metadata": {},
   "source": [
    "### Importing required modules"
   ]
  },
  {
   "cell_type": "code",
   "execution_count": null,
   "metadata": {},
   "outputs": [],
   "source": []
  },
  {
   "cell_type": "code",
   "execution_count": 28,
   "metadata": {},
   "outputs": [],
   "source": [
    "# import google.generativeai as genai\n",
    "from langchain_google_genai import ChatGoogleGenerativeAI\n",
    "from dotenv import load_dotenv\n",
    "import os\n",
    "\n",
    "from langchain.prompts import PromptTemplate\n",
    "from langchain.chains import LLMChain, SequentialChain\n",
    "import PyPDF2"
   ]
  },
  {
   "cell_type": "code",
   "execution_count": 2,
   "metadata": {},
   "outputs": [
    {
     "data": {
      "text/plain": [
       "True"
      ]
     },
     "execution_count": 2,
     "metadata": {},
     "output_type": "execute_result"
    }
   ],
   "source": [
    "# loading the env variables\n",
    "load_dotenv()"
   ]
  },
  {
   "cell_type": "code",
   "execution_count": 29,
   "metadata": {},
   "outputs": [],
   "source": [
    "# loading the google gemini pro LLM model\n",
    "\n",
    "GOOGLE_API_KEY = os.getenv('API_KEY')\n",
    "# genai.configure(api_key=GOOGLE_API_KEY)\n",
    "# model = genai.GenerativeModel('gemini-pro',generation_config={'temperature':0.3})\n",
    "model = ChatGoogleGenerativeAI(model=\"gemini-pro\",\n",
    "                               google_api_key=GOOGLE_API_KEY,\n",
    "                               temperature=0.3)"
   ]
  },
  {
   "cell_type": "markdown",
   "metadata": {},
   "source": [
    "### Creating Prompt"
   ]
  },
  {
   "cell_type": "code",
   "execution_count": 34,
   "metadata": {},
   "outputs": [],
   "source": [
    "Template = '''\\\n",
    "You are an expert in the creation of multi choice questions. \\\n",
    "Your job is create a {number} number of multi choice questions in {difficulty} level. \\\n",
    "Make sure the questions are not repeated and follow the below format for creating questions: \\n\n",
    "    1. first multi choice question.\\n\n",
    "    Ans: \\n\\tA. \"first choice here.\"\\n\\tB. \"second choice here.\"\\n\\tC. \"third choice here.\"\\n\\tD. \"fourth choice here.\"\\n\n",
    "    Correct: \"correct answer\".\\n\n",
    "    2. second multi choice question.\\n\n",
    "    Ans: \\n\\tA. \"first choice here.\"\\n\\tB. \"second choice here.\"\\n\\tC. \"third choice here.\"\\n\\tD. \"fourth choice here.\"\\n\n",
    "    Correct: \"correct answer\".\\n\n",
    "Using following text to generate muti choice questions based above instructions:\n",
    "\"Text\" : {text}\n",
    "'''"
   ]
  },
  {
   "cell_type": "code",
   "execution_count": 35,
   "metadata": {},
   "outputs": [
    {
     "name": "stdout",
     "output_type": "stream",
     "text": [
      "You are an expert in the creation of multi choice questions. Your job is create a {number} number of multi choice questions in {difficulty} level. Make sure the questions are not repeated and follow the below format for creating questions: \n",
      "\n",
      "    1. first multi choice question.\n",
      "\n",
      "    Ans: \n",
      "\tA. \"first choice here.\"\n",
      "\tB. \"second choice here.\"\n",
      "\tC. \"third choice here.\"\n",
      "\tD. \"fourth choice here.\"\n",
      "\n",
      "    Correct: \"correct answer\".\n",
      "\n",
      "    2. second multi choice question.\n",
      "\n",
      "    Ans: \n",
      "\tA. \"first choice here.\"\n",
      "\tB. \"second choice here.\"\n",
      "\tC. \"third choice here.\"\n",
      "\tD. \"fourth choice here.\"\n",
      "\n",
      "    Correct: \"correct answer\".\n",
      "\n",
      "Using following text to generate muti choice questions based above instructions:\n",
      "\"Text\" : {text}\n",
      "\n"
     ]
    }
   ],
   "source": [
    "print(Template)"
   ]
  },
  {
   "cell_type": "code",
   "execution_count": 36,
   "metadata": {},
   "outputs": [],
   "source": [
    "mcq_prompt = PromptTemplate(\n",
    "    input_variables=['number','difficulty','text'],\n",
    "    template=Template\n",
    ")"
   ]
  },
  {
   "cell_type": "code",
   "execution_count": 37,
   "metadata": {},
   "outputs": [],
   "source": [
    "base_chain = LLMChain(llm=model,\n",
    "                      prompt=mcq_prompt,\n",
    "                      output_key=\"mcq\",\n",
    "                      verbose=True\n",
    "                      )"
   ]
  },
  {
   "cell_type": "code",
   "execution_count": null,
   "metadata": {},
   "outputs": [],
   "source": []
  }
 ],
 "metadata": {
  "kernelspec": {
   "display_name": "Python 3",
   "language": "python",
   "name": "python3"
  },
  "language_info": {
   "codemirror_mode": {
    "name": "ipython",
    "version": 3
   },
   "file_extension": ".py",
   "mimetype": "text/x-python",
   "name": "python",
   "nbconvert_exporter": "python",
   "pygments_lexer": "ipython3",
   "version": "3.9.0"
  }
 },
 "nbformat": 4,
 "nbformat_minor": 2
}
