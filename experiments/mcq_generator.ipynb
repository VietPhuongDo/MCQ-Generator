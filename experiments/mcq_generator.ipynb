{
 "cells": [
  {
   "cell_type": "markdown",
   "metadata": {},
   "source": [
    "### Importing required modules"
   ]
  },
  {
   "cell_type": "code",
   "execution_count": null,
   "metadata": {},
   "outputs": [],
   "source": []
  },
  {
   "cell_type": "code",
   "execution_count": 28,
   "metadata": {},
   "outputs": [],
   "source": [
    "# import google.generativeai as genai\n",
    "from langchain_google_genai import ChatGoogleGenerativeAI\n",
    "from dotenv import load_dotenv\n",
    "import os\n",
    "\n",
    "from langchain.prompts import PromptTemplate\n",
    "from langchain.chains import LLMChain, SequentialChain\n",
    "import PyPDF2"
   ]
  },
  {
   "cell_type": "code",
   "execution_count": 2,
   "metadata": {},
   "outputs": [
    {
     "data": {
      "text/plain": [
       "True"
      ]
     },
     "execution_count": 2,
     "metadata": {},
     "output_type": "execute_result"
    }
   ],
   "source": [
    "# loading the env variables\n",
    "load_dotenv()"
   ]
  },
  {
   "cell_type": "code",
   "execution_count": 29,
   "metadata": {},
   "outputs": [],
   "source": [
    "# loading the google gemini pro LLM model\n",
    "\n",
    "GOOGLE_API_KEY = os.getenv('API_KEY')\n",
    "# genai.configure(api_key=GOOGLE_API_KEY)\n",
    "# model = genai.GenerativeModel('gemini-pro',generation_config={'temperature':0.3})\n",
    "model = ChatGoogleGenerativeAI(model=\"gemini-pro\",\n",
    "                               google_api_key=GOOGLE_API_KEY,\n",
    "                               temperature=0.3)"
   ]
  },
  {
   "cell_type": "markdown",
   "metadata": {},
   "source": [
    "### Creating Prompt"
   ]
  },
  {
   "cell_type": "code",
   "execution_count": 38,
   "metadata": {},
   "outputs": [],
   "source": [
    "Template = '''\\\n",
    "You are an expert in the creation of multi choice questions. \\\n",
    "Your job is create a {number} number of multi choice questions in {difficulty} level. \\\n",
    "Make sure the questions are not repeated and follow the below format for creating questions: \\n\n",
    "    1. first multi choice question.\\n\n",
    "    Ans: \\n\\tA. \"first choice here.\"\\n\\tB. \"second choice here.\"\\n\\tC. \"third choice here.\"\\n\\tD. \"fourth choice here.\"\\n\n",
    "    Correct: \"correct answer\".\\n\n",
    "    2. second multi choice question.\\n\n",
    "    Ans: \\n\\tA. \"first choice here.\"\\n\\tB. \"second choice here.\"\\n\\tC. \"third choice here.\"\\n\\tD. \"fourth choice here.\"\\n\n",
    "    Correct: \"correct answer\".\\n\n",
    "Using following text to generate muti choice questions based on above instructions:\n",
    "\"Text\" : {text}\n",
    "'''"
   ]
  },
  {
   "cell_type": "code",
   "execution_count": 39,
   "metadata": {},
   "outputs": [
    {
     "name": "stdout",
     "output_type": "stream",
     "text": [
      "You are an expert in the creation of multi choice questions. Your job is create a {number} number of multi choice questions in {difficulty} level. Make sure the questions are not repeated and follow the below format for creating questions: \n",
      "\n",
      "    1. first multi choice question.\n",
      "\n",
      "    Ans: \n",
      "\tA. \"first choice here.\"\n",
      "\tB. \"second choice here.\"\n",
      "\tC. \"third choice here.\"\n",
      "\tD. \"fourth choice here.\"\n",
      "\n",
      "    Correct: \"correct answer\".\n",
      "\n",
      "    2. second multi choice question.\n",
      "\n",
      "    Ans: \n",
      "\tA. \"first choice here.\"\n",
      "\tB. \"second choice here.\"\n",
      "\tC. \"third choice here.\"\n",
      "\tD. \"fourth choice here.\"\n",
      "\n",
      "    Correct: \"correct answer\".\n",
      "\n",
      "Using following text to generate muti choice questions based on above instructions:\n",
      "\"Text\" : {text}\n",
      "\n"
     ]
    }
   ],
   "source": [
    "print(Template)"
   ]
  },
  {
   "cell_type": "code",
   "execution_count": 40,
   "metadata": {},
   "outputs": [],
   "source": [
    "mcq_prompt = PromptTemplate(\n",
    "    input_variables=['number','difficulty','text'],\n",
    "    template=Template\n",
    ")"
   ]
  },
  {
   "cell_type": "code",
   "execution_count": 48,
   "metadata": {},
   "outputs": [],
   "source": [
    "base_chain = LLMChain(llm=model,\n",
    "                      prompt=mcq_prompt,\n",
    "                      output_key=\"mcq\",\n",
    "                      verbose=False,\n",
    "                      )"
   ]
  },
  {
   "cell_type": "code",
   "execution_count": 49,
   "metadata": {},
   "outputs": [],
   "source": [
    "input_text = '''\n",
    "What Is Machine Learning?\n",
    "Machine learning (ML) is a discipline of artificial intelligence (AI) that provides machines with the ability to automatically learn from data and past experiences while identifying patterns to make predictions with minimal human intervention.\n",
    "\n",
    "Machine learning methods enable computers to operate autonomously without explicit programming. ML applications are fed with new data, and they can independently learn, grow, develop, and adapt.\n",
    "\n",
    "Machine learning derives insightful information from large volumes of data by leveraging algorithms to identify patterns and learn in an iterative process. ML algorithms use computation methods to learn directly from data instead of relying on any predetermined equation that may serve as a model.\n",
    "\n",
    "The performance of ML algorithms adaptively improves with an increase in the number of available samples during the ‘learning’ processes. For example, deep learning is a sub-domain of machine learning that trains computers to imitate natural human traits like learning from examples. It offers better performance parameters than conventional ML algorithms.\n",
    "\n",
    "While machine learning is not a new concept dating back to World War II when the Enigma Machine was used – the ability to apply complex mathematical calculations automatically to growing volumes and varieties of available data is a relatively recent development.\n",
    "\n",
    "Today, with the rise of big data, IoT, and ubiquitous computing, machine learning has become essential for solving problems across numerous areas, such as\n",
    "\n",
    "Computational finance (credit scoring, algorithmic trading)\n",
    "Computer vision (facial recognition, motion tracking, object detection)\n",
    "Computational biology (DNA sequencing, brain tumor detection, drug discovery)\n",
    "Automotive, aerospace, and manufacturing (predictive maintenance)\n",
    "Natural language processing (voice recognition)\n",
    "How does machine learning work?\n",
    "Machine learning algorithms are molded on a training dataset to create a model. As new input data is introduced to the trained ML algorithm, it uses the developed model to make a prediction. The prediction is checked for accuracy. Based on its accuracy, the ML algorithm is either deployed or trained repeatedly with an augmented training dataset until the desired accuracy is achieved.\n",
    "Types of Machine Learning\n",
    "Machine learning algorithms can be trained in many ways, with each method having its pros and cons. Based on these methods and ways of learning, machine learning is broadly categorized into four main types:\n",
    "\n",
    "Types of Machine LearningTypes of Machine Learning\n",
    "1. Supervised machine learning\n",
    "This type of ML involves supervision, where machines are trained on labeled datasets and enabled to predict outputs based on the provided training. The labeled dataset specifies that some input and output parameters are already mapped. Hence, the machine is trained with the input and corresponding output. A device is made to predict the outcome using the test dataset in subsequent phases.\n",
    "\n",
    "For example, consider an input dataset of parrot and crow images. Initially, the machine is trained to understand the pictures, including the parrot and crow’s color, eyes, shape, and size. Post-training, an input picture of a parrot is provided, and the machine is expected to identify the object and predict the output. The trained machine checks for the various features of the object, such as color, eyes, shape, etc., in the input picture, to make a final prediction. This is the process of object identification in supervised machine learning.\n",
    "\n",
    "The primary objective of the supervised learning technique is to map the input variable (a) with the output variable (b). Supervised machine learning is further classified into two broad categories:\n",
    "\n",
    "Classification: These refer to algorithms that address classification problems where the output variable is categorical; for example, yes or no, true or false, male or female, etc. Real-world applications of this category are evident in spam detection and email filtering.\n",
    "Some known classification algorithms include the Random Forest Algorithm, Decision Tree Algorithm, Logistic Regression Algorithm, and Support Vector Machine Algorithm.\n",
    "\n",
    "Regression: Regression algorithms handle regression problems where input and output variables have a linear relationship. These are known to predict continuous output variables. Examples include weather prediction, market trend analysis, etc.\n",
    "Popular regression algorithms include the Simple Linear Regression Algorithm, Multivariate Regression Algorithm, Decision Tree Algorithm, and Lasso Regression.\n",
    "\n",
    "2. Unsupervised machine learning\n",
    "Unsupervised learning refers to a learning technique that’s devoid of supervision. Here, the machine is trained using an unlabeled dataset and is enabled to predict the output without any supervision. An unsupervised learning algorithm aims to group the unsorted dataset based on the input’s similarities, differences, and patterns.\n",
    "\n",
    "For example, consider an input dataset of images of a fruit-filled container. Here, the images are not known to the machine learning model. When we input the dataset into the ML model, the task of the model is to identify the pattern of objects, such as color, shape, or differences seen in the input images and categorize them. Upon categorization, the machine then predicts the output as it gets tested with a test dataset.\n",
    "\n",
    "Unsupervised machine learning is further classified into two types:\n",
    "\n",
    "Clustering: The clustering technique refers to grouping objects into clusters based on parameters such as similarities or differences between objects. For example, grouping customers by the products they purchase.\n",
    "Some known clustering algorithms include the K-Means Clustering Algorithm, Mean-Shift Algorithm, DBSCAN Algorithm, Principal Component Analysis, and Independent Component Analysis.\n",
    "\n",
    "Association: Association learning refers to identifying typical relations between the variables of a large dataset. It determines the dependency of various data items and maps associated variables. Typical applications include web usage mining and market data analysis.\n",
    "Popular algorithms obeying association rules include the Apriori Algorithm, Eclat Algorithm, and FP-Growth Algorithm.\n",
    "\n",
    "3. Semi-supervised learning\n",
    "Semi-supervised learning comprises characteristics of both supervised and unsupervised machine learning. It uses the combination of labeled and unlabeled datasets to train its algorithms. Using both types of datasets, semi-supervised learning overcomes the drawbacks of the options mentioned above.\n",
    "\n",
    "Consider an example of a college student. A student learning a concept under a teacher’s supervision in college is termed supervised learning. In unsupervised learning, a student self-learns the same concept at home without a teacher’s guidance. Meanwhile, a student revising the concept after learning under the direction of a teacher in college is a semi-supervised form of learning. \n",
    "\n",
    "4. Reinforcement learning\n",
    "Reinforcement learning is a feedback-based process. Here, the AI component automatically takes stock of its surroundings by the hit & trial method, takes action, learns from experiences, and improves performance. The component is rewarded for each good action and penalized for every wrong move. Thus, the reinforcement learning component aims to maximize the rewards by performing good actions.\n",
    "\n",
    "Unlike supervised learning, reinforcement learning lacks labeled data, and the agents learn via experiences only. Consider video games. Here, the game specifies the environment, and each move of the reinforcement agent defines its state. The agent is entitled to receive feedback via punishment and rewards, thereby affecting the overall game score. The ultimate goal of the agent is to achieve a high score.\n",
    "\n",
    "Reinforcement learning is applied across different fields such as game theory, information theory, and multi-agent systems. Reinforcement learning is further divided into two types of methods or algorithms:\n",
    "\n",
    "Positive reinforcement learning: This refers to adding a reinforcing stimulus after a specific behavior of the agent, which makes it more likely that the behavior may occur again in the future, e.g., adding a reward after a behavior.\n",
    "Negative reinforcement learning: Negative reinforcement learning refers to strengthening a specific behavior that avoids a negative outcome.\n",
    "'''"
   ]
  },
  {
   "cell_type": "code",
   "execution_count": 50,
   "metadata": {},
   "outputs": [],
   "source": [
    "response = base_chain.run(number = 5,\n",
    "                        difficulty = 'Easy',\n",
    "                        text = input_text)"
   ]
  },
  {
   "cell_type": "code",
   "execution_count": 65,
   "metadata": {},
   "outputs": [
    {
     "ename": "AttributeError",
     "evalue": "'str' object has no attribute 'text'",
     "output_type": "error",
     "traceback": [
      "\u001b[1;31m---------------------------------------------------------------------------\u001b[0m",
      "\u001b[1;31mAttributeError\u001b[0m                            Traceback (most recent call last)",
      "Cell \u001b[1;32mIn[65], line 1\u001b[0m\n\u001b[1;32m----> 1\u001b[0m \u001b[43mresponse\u001b[49m\u001b[38;5;241;43m.\u001b[39;49m\u001b[43mtext\u001b[49m\n",
      "\u001b[1;31mAttributeError\u001b[0m: 'str' object has no attribute 'text'"
     ]
    }
   ],
   "source": [
    "response"
   ]
  },
  {
   "cell_type": "code",
   "execution_count": 51,
   "metadata": {},
   "outputs": [
    {
     "name": "stdout",
     "output_type": "stream",
     "text": [
      "1. What is the main goal of machine learning?\n",
      "\n",
      "Ans: \n",
      "\tA. To provide machines with the ability to automatically learn from data and past experiences.\n",
      "\tB. To enable computers to operate autonomously without explicit programming.\n",
      "\tC. To derive insightful information from large volumes of data.\n",
      "\tD. To improve the performance of ML algorithms with an increase in the number of available samples.\n",
      "\n",
      "Correct: A. To provide machines with the ability to automatically learn from data and past experiences.\n",
      "\n",
      "2. Which type of machine learning involves supervision, where machines are trained on labeled datasets?\n",
      "\n",
      "Ans: \n",
      "\tA. Supervised machine learning\n",
      "\tB. Unsupervised machine learning\n",
      "\tC. Semi-supervised learning\n",
      "\tD. Reinforcement learning\n",
      "\n",
      "Correct: A. Supervised machine learning\n",
      "\n",
      "3. What is the objective of supervised machine learning?\n",
      "\n",
      "Ans: \n",
      "\tA. To map the input variable (a) with the output variable (b).\n",
      "\tB. To group the unsorted dataset based on the input’s similarities, differences, and patterns.\n",
      "\tC. To use the combination of labeled and unlabeled datasets to train its algorithms.\n",
      "\tD. To automatically take stock of its surroundings by the hit & trial method.\n",
      "\n",
      "Correct: A. To map the input variable (a) with the output variable (b).\n",
      "\n",
      "4. Which type of machine learning is devoid of supervision and aims to group the unsorted dataset based on the input’s similarities, differences, and patterns?\n",
      "\n",
      "Ans: \n",
      "\tA. Supervised machine learning\n",
      "\tB. Unsupervised machine learning\n",
      "\tC. Semi-supervised learning\n",
      "\tD. Reinforcement learning\n",
      "\n",
      "Correct: B. Unsupervised machine learning\n",
      "\n",
      "5. What is the main goal of reinforcement learning?\n",
      "\n",
      "Ans: \n",
      "\tA. To maximize the rewards by performing good actions.\n",
      "\tB. To group objects into clusters based on parameters such as similarities or differences between objects.\n",
      "\tC. To identify typical relations between the variables of a large dataset.\n",
      "\tD. To use the combination of labeled and unlabeled datasets to train its algorithms.\n",
      "\n",
      "Correct: A. To maximize the rewards by performing good actions.\n"
     ]
    }
   ],
   "source": [
    "print(response)"
   ]
  },
  {
   "cell_type": "code",
   "execution_count": 59,
   "metadata": {},
   "outputs": [],
   "source": [
    "from langchain_google_genai import GoogleGenerativeAI"
   ]
  },
  {
   "cell_type": "code",
   "execution_count": 60,
   "metadata": {},
   "outputs": [
    {
     "ename": "ValueError",
     "evalue": "Counting tokens is not yet supported!",
     "output_type": "error",
     "traceback": [
      "\u001b[1;31m---------------------------------------------------------------------------\u001b[0m",
      "\u001b[1;31mValueError\u001b[0m                                Traceback (most recent call last)",
      "Cell \u001b[1;32mIn[60], line 1\u001b[0m\n\u001b[1;32m----> 1\u001b[0m \u001b[43mGoogleGenerativeAI\u001b[49m\u001b[43m(\u001b[49m\u001b[43mgoogle_api_key\u001b[49m\u001b[38;5;241;43m=\u001b[39;49m\u001b[43mGOOGLE_API_KEY\u001b[49m\u001b[43m,\u001b[49m\u001b[43mmodel\u001b[49m\u001b[38;5;241;43m=\u001b[39;49m\u001b[38;5;124;43m\"\u001b[39;49m\u001b[38;5;124;43mgemini-pro\u001b[39;49m\u001b[38;5;124;43m\"\u001b[39;49m\u001b[43m)\u001b[49m\u001b[38;5;241;43m.\u001b[39;49m\u001b[43mget_num_tokens\u001b[49m\u001b[43m(\u001b[49m\u001b[38;5;124;43m'\u001b[39;49m\u001b[38;5;124;43mThis is the test\u001b[39;49m\u001b[38;5;124;43m'\u001b[39;49m\u001b[43m)\u001b[49m\n",
      "File \u001b[1;32md:\\Projects\\MCQ-Generator-by-Gemini-Pro\\MCQ_generator\\lib\\site-packages\\langchain_google_genai\\llms.py:275\u001b[0m, in \u001b[0;36mGoogleGenerativeAI.get_num_tokens\u001b[1;34m(self, text)\u001b[0m\n\u001b[0;32m    264\u001b[0m \u001b[38;5;250m\u001b[39m\u001b[38;5;124;03m\"\"\"Get the number of tokens present in the text.\u001b[39;00m\n\u001b[0;32m    265\u001b[0m \n\u001b[0;32m    266\u001b[0m \u001b[38;5;124;03mUseful for checking if an input will fit in a model's context window.\u001b[39;00m\n\u001b[1;32m   (...)\u001b[0m\n\u001b[0;32m    272\u001b[0m \u001b[38;5;124;03m    The integer number of tokens in the text.\u001b[39;00m\n\u001b[0;32m    273\u001b[0m \u001b[38;5;124;03m\"\"\"\u001b[39;00m\n\u001b[0;32m    274\u001b[0m \u001b[38;5;28;01mif\u001b[39;00m \u001b[38;5;28mself\u001b[39m\u001b[38;5;241m.\u001b[39mis_gemini:\n\u001b[1;32m--> 275\u001b[0m     \u001b[38;5;28;01mraise\u001b[39;00m \u001b[38;5;167;01mValueError\u001b[39;00m(\u001b[38;5;124m\"\u001b[39m\u001b[38;5;124mCounting tokens is not yet supported!\u001b[39m\u001b[38;5;124m\"\u001b[39m)\n\u001b[0;32m    276\u001b[0m result \u001b[38;5;241m=\u001b[39m \u001b[38;5;28mself\u001b[39m\u001b[38;5;241m.\u001b[39mclient\u001b[38;5;241m.\u001b[39mcount_text_tokens(model\u001b[38;5;241m=\u001b[39m\u001b[38;5;28mself\u001b[39m\u001b[38;5;241m.\u001b[39mmodel, prompt\u001b[38;5;241m=\u001b[39mtext)\n\u001b[0;32m    277\u001b[0m \u001b[38;5;28;01mreturn\u001b[39;00m result[\u001b[38;5;124m\"\u001b[39m\u001b[38;5;124mtoken_count\u001b[39m\u001b[38;5;124m\"\u001b[39m]\n",
      "\u001b[1;31mValueError\u001b[0m: Counting tokens is not yet supported!"
     ]
    }
   ],
   "source": [
    "GoogleGenerativeAI(google_api_key=GOOGLE_API_KEY,model=\"gemini-pro\")"
   ]
  },
  {
   "cell_type": "code",
   "execution_count": 58,
   "metadata": {},
   "outputs": [
    {
     "ename": "ValidationError",
     "evalue": "1 validation error for GoogleGenerativeAI\n__root__\n  Did not find google_api_key, please add an environment variable `GOOGLE_API_KEY` which contains it, or pass `google_api_key` as a named parameter. (type=value_error)",
     "output_type": "error",
     "traceback": [
      "\u001b[1;31m---------------------------------------------------------------------------\u001b[0m",
      "\u001b[1;31mValidationError\u001b[0m                           Traceback (most recent call last)",
      "Cell \u001b[1;32mIn[58], line 2\u001b[0m\n\u001b[0;32m      1\u001b[0m \u001b[38;5;28;01mfrom\u001b[39;00m \u001b[38;5;21;01mlangchain_google_genai\u001b[39;00m \u001b[38;5;28;01mimport\u001b[39;00m GoogleGenerativeAI\n\u001b[1;32m----> 2\u001b[0m token_model \u001b[38;5;241m=\u001b[39m \u001b[43mGoogleGenerativeAI\u001b[49m\u001b[43m(\u001b[49m\u001b[43mmodel\u001b[49m\u001b[38;5;241;43m=\u001b[39;49m\u001b[38;5;124;43m\"\u001b[39;49m\u001b[38;5;124;43mgemini-pro\u001b[39;49m\u001b[38;5;124;43m\"\u001b[39;49m\u001b[43m)\u001b[49m\n\u001b[0;32m      3\u001b[0m \u001b[38;5;28mprint\u001b[39m(token_model\u001b[38;5;241m.\u001b[39mcount_tokens(\u001b[38;5;124m\"\u001b[39m\u001b[38;5;124mwhy is sky blue?\u001b[39m\u001b[38;5;124m\"\u001b[39m))\n",
      "File \u001b[1;32md:\\Projects\\MCQ-Generator-by-Gemini-Pro\\MCQ_generator\\lib\\site-packages\\langchain_core\\load\\serializable.py:107\u001b[0m, in \u001b[0;36mSerializable.__init__\u001b[1;34m(self, **kwargs)\u001b[0m\n\u001b[0;32m    106\u001b[0m \u001b[38;5;28;01mdef\u001b[39;00m \u001b[38;5;21m__init__\u001b[39m(\u001b[38;5;28mself\u001b[39m, \u001b[38;5;241m*\u001b[39m\u001b[38;5;241m*\u001b[39mkwargs: Any) \u001b[38;5;241m-\u001b[39m\u001b[38;5;241m>\u001b[39m \u001b[38;5;28;01mNone\u001b[39;00m:\n\u001b[1;32m--> 107\u001b[0m     \u001b[38;5;28msuper\u001b[39m()\u001b[38;5;241m.\u001b[39m\u001b[38;5;21m__init__\u001b[39m(\u001b[38;5;241m*\u001b[39m\u001b[38;5;241m*\u001b[39mkwargs)\n\u001b[0;32m    108\u001b[0m     \u001b[38;5;28mself\u001b[39m\u001b[38;5;241m.\u001b[39m_lc_kwargs \u001b[38;5;241m=\u001b[39m kwargs\n",
      "File \u001b[1;32md:\\Projects\\MCQ-Generator-by-Gemini-Pro\\MCQ_generator\\lib\\site-packages\\pydantic\\v1\\main.py:341\u001b[0m, in \u001b[0;36mBaseModel.__init__\u001b[1;34m(__pydantic_self__, **data)\u001b[0m\n\u001b[0;32m    339\u001b[0m values, fields_set, validation_error \u001b[38;5;241m=\u001b[39m validate_model(__pydantic_self__\u001b[38;5;241m.\u001b[39m\u001b[38;5;18m__class__\u001b[39m, data)\n\u001b[0;32m    340\u001b[0m \u001b[38;5;28;01mif\u001b[39;00m validation_error:\n\u001b[1;32m--> 341\u001b[0m     \u001b[38;5;28;01mraise\u001b[39;00m validation_error\n\u001b[0;32m    342\u001b[0m \u001b[38;5;28;01mtry\u001b[39;00m:\n\u001b[0;32m    343\u001b[0m     object_setattr(__pydantic_self__, \u001b[38;5;124m'\u001b[39m\u001b[38;5;124m__dict__\u001b[39m\u001b[38;5;124m'\u001b[39m, values)\n",
      "\u001b[1;31mValidationError\u001b[0m: 1 validation error for GoogleGenerativeAI\n__root__\n  Did not find google_api_key, please add an environment variable `GOOGLE_API_KEY` which contains it, or pass `google_api_key` as a named parameter. (type=value_error)"
     ]
    }
   ],
   "source": [
    "from langchain_google_genai import GoogleGenerativeAI\n",
    "token_model = GoogleGenerativeAI()(model=\"gemini-pro\")\n",
    "print(token_model.count_tokens(\"why is sky blue?\"))"
   ]
  },
  {
   "cell_type": "markdown",
   "metadata": {},
   "source": [
    "### Modular coding test runs"
   ]
  },
  {
   "cell_type": "code",
   "execution_count": 53,
   "metadata": {},
   "outputs": [],
   "source": [
    "from datetime import datetime"
   ]
  },
  {
   "cell_type": "code",
   "execution_count": 54,
   "metadata": {},
   "outputs": [
    {
     "data": {
      "text/plain": [
       "'2024_01_24_21_06_02'"
      ]
     },
     "execution_count": 54,
     "metadata": {},
     "output_type": "execute_result"
    }
   ],
   "source": [
    "datetime.now().strftime('%Y_%m_%d_%H_%M_%S')"
   ]
  },
  {
   "cell_type": "code",
   "execution_count": null,
   "metadata": {},
   "outputs": [],
   "source": []
  }
 ],
 "metadata": {
  "kernelspec": {
   "display_name": "Python 3",
   "language": "python",
   "name": "python3"
  },
  "language_info": {
   "codemirror_mode": {
    "name": "ipython",
    "version": 3
   },
   "file_extension": ".py",
   "mimetype": "text/x-python",
   "name": "python",
   "nbconvert_exporter": "python",
   "pygments_lexer": "ipython3",
   "version": "3.9.0"
  }
 },
 "nbformat": 4,
 "nbformat_minor": 2
}
